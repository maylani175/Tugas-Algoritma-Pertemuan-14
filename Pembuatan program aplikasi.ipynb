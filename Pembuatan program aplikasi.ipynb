{
  "nbformat": 4,
  "nbformat_minor": 0,
  "metadata": {
    "colab": {
      "provenance": [],
      "authorship_tag": "ABX9TyPrVTunJNczuaCJ3ELI6X0C",
      "include_colab_link": true
    },
    "kernelspec": {
      "name": "python3",
      "display_name": "Python 3"
    },
    "language_info": {
      "name": "python"
    }
  },
  "cells": [
    {
      "cell_type": "markdown",
      "metadata": {
        "id": "view-in-github",
        "colab_type": "text"
      },
      "source": [
        "<a href=\"https://colab.research.google.com/github/maylani175/Tugas-Algoritma-Pertemuan-14/blob/main/Pembuatan%20program%20aplikasi.ipynb\" target=\"_parent\"><img src=\"https://colab.research.google.com/assets/colab-badge.svg\" alt=\"Open In Colab\"/></a>"
      ]
    },
    {
      "cell_type": "code",
      "source": [
        "# Toko Makeup GlowStore - Console App\n",
        "# Dibuat dengan Python. Simulasi sistem pembelian sederhana via terminal.\n",
        "\n",
        "# ========================\n",
        "# Data Produk Makeup\n",
        "# ========================\n",
        "produk = {\n",
        "    1: {\"nama\": \"Lipstik Matte\", \"harga\": 75000},\n",
        "    2: {\"nama\": \"Foundation Cair\", \"harga\": 120000},\n",
        "    3: {\"nama\": \"Eyeliner\", \"harga\": 45000},\n",
        "    4: {\"nama\": \"Bedak Padat\", \"harga\": 65000},\n",
        "    5: {\"nama\": \"Blush On\", \"harga\": 50000}\n",
        "}\n",
        "\n",
        "keranjang = []  # Menyimpan daftar pembelian user\n",
        "\n",
        "# ========================\n",
        "# Fungsi: Menampilkan produk yang tersedia\n",
        "# ========================\n",
        "def tampilkan_produk():\n",
        "    print(\"\\n=== Daftar Produk Makeup ===\")\n",
        "    for kode, item in produk.items():\n",
        "        print(f\"{kode}. {item['nama']} - Rp{item['harga']:,}\")\n",
        "\n",
        "# ========================\n",
        "# Fungsi: Menambahkan item ke keranjang\n",
        "# Input berupa kode produk dan jumlah\n",
        "# Validasi dilakukan terhadap input dan kode produk\n",
        "# ========================\n",
        "def tambah_ke_keranjang():\n",
        "    while True:\n",
        "        try:\n",
        "            kode = int(input(\"\\nMasukkan kode produk (0 untuk selesai): \"))\n",
        "            if kode == 0:\n",
        "                break\n",
        "            if kode not in produk:\n",
        "                print(\"Kode tidak ditemukan.\")\n",
        "                continue\n",
        "            jumlah = int(input(\"Jumlah: \"))\n",
        "            keranjang.append({\"kode\": kode, \"jumlah\": jumlah})\n",
        "        except ValueError:\n",
        "            print(\"Input harus berupa angka.\")\n",
        "\n",
        "# ========================\n",
        "# Fungsi: Menampilkan isi keranjang dan total belanja\n",
        "# Total dihitung berdasarkan harga produk * jumlah\n",
        "# ========================\n",
        "def tampilkan_keranjang():\n",
        "    print(\"\\n=== Keranjang Belanja ===\")\n",
        "    total = 0\n",
        "    for item in keranjang:\n",
        "        produk_item = produk[item[\"kode\"]]\n",
        "        subtotal = produk_item[\"harga\"] * item[\"jumlah\"]\n",
        "        total += subtotal\n",
        "        print(f\"{produk_item['nama']} x{item['jumlah']} = Rp{subtotal:,}\")\n",
        "    print(f\"\\nTotal Belanja: Rp{total:,}\")\n",
        "\n",
        "# ========================\n",
        "# Entry Point Program\n",
        "# Urutan: tampilkan → input → tampilkan hasil\n",
        "# ========================\n",
        "def main():\n",
        "    print(\"Selamat Datang di Toko Makeup GlowStore 💄\")\n",
        "    tampilkan_produk()\n",
        "    tambah_ke_keranjang()\n",
        "    tampilkan_keranjang()\n",
        "    print(\"\\nTerima kasih telah berbelanja di GlowStore!\")\n",
        "\n",
        "# Eksekusi program utama\n",
        "if __name__ == \"__main__\":\n",
        "    main()\n"
      ],
      "metadata": {
        "colab": {
          "base_uri": "https://localhost:8080/"
        },
        "id": "mLqo-RqDbHll",
        "outputId": "57276c9f-330e-4f93-b5f8-d3e3aac9961d"
      },
      "execution_count": 7,
      "outputs": [
        {
          "output_type": "stream",
          "name": "stdout",
          "text": [
            "Selamat Datang di Toko Makeup GlowStore 💄\n",
            "\n",
            "=== Daftar Produk Makeup ===\n",
            "1. Lipstik Matte - Rp75,000\n",
            "2. Foundation Cair - Rp120,000\n",
            "3. Eyeliner - Rp45,000\n",
            "4. Bedak Padat - Rp65,000\n",
            "5. Blush On - Rp50,000\n",
            "\n",
            "Masukkan kode produk (0 untuk selesai): 1\n",
            "Jumlah: 100\n",
            "\n",
            "Masukkan kode produk (0 untuk selesai): 2\n",
            "Jumlah: 150\n",
            "\n",
            "Masukkan kode produk (0 untuk selesai): 3\n",
            "Jumlah: 125\n",
            "\n",
            "Masukkan kode produk (0 untuk selesai): 4\n",
            "Jumlah: 350\n",
            "\n",
            "Masukkan kode produk (0 untuk selesai): 5\n",
            "Jumlah: 130\n",
            "\n",
            "Masukkan kode produk (0 untuk selesai): 0\n",
            "\n",
            "=== Keranjang Belanja ===\n",
            "Lipstik Matte x100 = Rp7,500,000\n",
            "Foundation Cair x150 = Rp18,000,000\n",
            "Eyeliner x125 = Rp5,625,000\n",
            "Bedak Padat x350 = Rp22,750,000\n",
            "Blush On x130 = Rp6,500,000\n",
            "\n",
            "Total Belanja: Rp60,375,000\n",
            "\n",
            "Terima kasih telah berbelanja di GlowStore!\n"
          ]
        }
      ]
    }
  ]
}