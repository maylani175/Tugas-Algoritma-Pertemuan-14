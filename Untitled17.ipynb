{
  "nbformat": 4,
  "nbformat_minor": 0,
  "metadata": {
    "colab": {
      "provenance": [],
      "authorship_tag": "ABX9TyNGS+V6/MQeGcTVoQRTK9vr",
      "include_colab_link": true
    },
    "kernelspec": {
      "name": "python3",
      "display_name": "Python 3"
    },
    "language_info": {
      "name": "python"
    }
  },
  "cells": [
    {
      "cell_type": "markdown",
      "metadata": {
        "id": "view-in-github",
        "colab_type": "text"
      },
      "source": [
        "<a href=\"https://colab.research.google.com/github/maylani175/Tugas-Algoritma-Pertemuan-14/blob/main/Untitled17.ipynb\" target=\"_parent\"><img src=\"https://colab.research.google.com/assets/colab-badge.svg\" alt=\"Open In Colab\"/></a>"
      ]
    },
    {
      "cell_type": "code",
      "source": [
        "# Program Toko Makeup Sederhana\n",
        "# Daftar produk makeup\n",
        "produk = {\n",
        "    1: {\"nama\": \"Lipstik Matte\", \"harga\": 75000},\n",
        "    2: {\"nama\": \"Foundation Cair\", \"harga\": 120000},\n",
        "    3: {\"nama\": \"Eyeliner Hitam\", \"harga\": 45000},\n",
        "    4: {\"nama\": \"Bedak Padat\", \"harga\": 65000},\n",
        "    5: {\"nama\": \"Blush On\", \"harga\": 50000}\n",
        "}\n",
        "\n",
        "keranjang = []\n",
        "\n",
        "# Tampilkan daftar produk\n",
        "def tampilkan_produk():\n",
        "    print(\"\\n=== Daftar Produk Makeup ===\")\n",
        "    for kode, item in produk.items():\n",
        "        print(f\"{kode}. {item['nama']} - Rp{item['harga']:,}\")\n",
        "\n",
        "# Tambahkan produk ke keranjang\n",
        "def tambah_ke_keranjang():\n",
        "    while True:\n",
        "        try:\n",
        "            kode = int(input(\"\\nMasukkan kode produk (0 untuk selesai): \"))\n",
        "            if kode == 0:\n",
        "                break\n",
        "            if kode not in produk:\n",
        "                print(\"Kode produk tidak valid.\")\n",
        "                continue\n",
        "            jumlah = int(input(\"Jumlah: \"))\n",
        "            keranjang.append({\"kode\": kode, \"jumlah\": jumlah})\n",
        "        except ValueError:\n",
        "            print(\"Input tidak valid, masukkan angka.\")\n",
        "\n",
        "# Tampilkan isi keranjang & total belanja\n",
        "def tampilkan_keranjang():\n",
        "    print(\"\\n=== Keranjang Belanja ===\")\n",
        "    total = 0\n",
        "    for item in keranjang:\n",
        "        produk_item = produk[item[\"kode\"]]\n",
        "        subtotal = produk_item[\"harga\"] * item[\"jumlah\"]\n",
        "        total += subtotal\n",
        "        print(f\"{produk_item['nama']} x{item['jumlah']} = Rp{subtotal:,}\")\n",
        "    print(f\"\\nTotal Belanja: Rp{total:,}\")\n",
        "\n",
        "# Main Program\n",
        "print(\"Selamat Datang di Toko Makeup GlowStore 💄\")\n",
        "tampilkan_produk()\n",
        "tambah_ke_keranjang()\n",
        "tampilkan_keranjang()\n",
        "print(\"\\nTerima kasih telah berbelanja di GlowStore!\")\n"
      ],
      "metadata": {
        "colab": {
          "base_uri": "https://localhost:8080/"
        },
        "id": "y0TmiDVS3m6I",
        "outputId": "86322121-5b49-4273-bcab-344bee132334"
      },
      "execution_count": 5,
      "outputs": [
        {
          "output_type": "stream",
          "name": "stdout",
          "text": [
            "Selamat Datang di Toko Makeup GlowStore 💄\n",
            "\n",
            "=== Daftar Produk Makeup ===\n",
            "1. Lipstik Matte - Rp75,000\n",
            "2. Foundation Cair - Rp120,000\n",
            "3. Eyeliner Hitam - Rp45,000\n",
            "4. Bedak Padat - Rp65,000\n",
            "5. Blush On - Rp50,000\n",
            "\n",
            "Masukkan kode produk (0 untuk selesai): 1\n",
            "Jumlah: 100\n",
            "\n",
            "Masukkan kode produk (0 untuk selesai): 2\n",
            "Jumlah: 150\n",
            "\n",
            "Masukkan kode produk (0 untuk selesai): 3\n",
            "Jumlah: 180\n",
            "\n",
            "Masukkan kode produk (0 untuk selesai): 4\n",
            "Jumlah: 250\n",
            "\n",
            "Masukkan kode produk (0 untuk selesai): 5\n",
            "Jumlah: 125\n",
            "\n",
            "Masukkan kode produk (0 untuk selesai): 0\n",
            "\n",
            "=== Keranjang Belanja ===\n",
            "Lipstik Matte x100 = Rp7,500,000\n",
            "Foundation Cair x150 = Rp18,000,000\n",
            "Eyeliner Hitam x180 = Rp8,100,000\n",
            "Bedak Padat x250 = Rp16,250,000\n",
            "Blush On x125 = Rp6,250,000\n",
            "\n",
            "Total Belanja: Rp56,100,000\n",
            "\n",
            "Terima kasih telah berbelanja di GlowStore!\n"
          ]
        }
      ]
    }
  ]
}